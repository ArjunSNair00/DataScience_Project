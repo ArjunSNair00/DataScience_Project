{
 "cells": [
  {
   "cell_type": "markdown",
   "metadata": {},
   "source": [
    "# Introduction to NumPy\n",
    "\n",
    "NumPy (Numerical Python) is a powerful Python library for numerical and mathematical operations, particularly for working with arrays and matrices. It’s widely used in scientific computing, data analysis, and machine learning due to its efficiency and versatility.\n",
    "\n",
    "## What is NumPy?\n",
    "- **Purpose**: Provides support for large, multi-dimensional arrays and matrices, with efficient mathematical functions.\n",
    "- **Key Features**:\n",
    "  - Fast array operations (vectorized, written in C).\n",
    "  - Multi-dimensional arrays (`ndarray`).\n",
    "  - Mathematical functions (e.g., linear algebra, random numbers, Fourier transforms).\n",
    "  - Broadcasting for operations on arrays of different shapes.\n",
    "- **Installation**: If not installed, use: `pip install numpy`."
   ]
  },
  {
   "cell_type": "markdown",
   "metadata": {},
   "source": [
    "## 1. Getting Started with NumPy\n",
    "To use NumPy, import it with the standard alias `np`."
   ]
  },
  {
   "cell_type": "code",
   "execution_count": null,
   "metadata": {},
   "outputs": [],
   "source": [
    "import numpy as np"
   ]
  },
  {
   "cell_type": "markdown",
   "metadata": {},
   "source": [
    "## 2. Core Concept: The NumPy Array (`ndarray`)\n",
    "The `ndarray` is NumPy’s primary data structure, a multi-dimensional array that is more efficient than Python lists for numerical operations.\n",
    "\n",
    "### Creating Arrays\n",
    "#### From a Python List"
   ]
  },
  {
   "cell_type": "code",
   "execution_count": null,
   "metadata": {},
   "outputs": [],
   "source": [
    "# 1D array\n",
    "arr = np.array([1, 2, 3, 4])\n",
    "print(arr)  # Output: [1 2 3 4]\n",
    "print(arr.shape)  # Output: (4,)\n",
    "print(arr.ndim)   # Output: 1\n",
    "\n",
    "# 2D array (matrix)\n",
    "arr_2d = np.array([[1, 2], [3, 4]])\n",
    "print(arr_2d)\n",
    "print(arr_2d.shape)  # Output: (2, 2)"
   ]
  },
  {
   "cell_type": "markdown",
   "metadata": {},
   "source": [
    "#### Using NumPy Functions"
   ]
  },
  {
   "cell_type": "code",
   "execution_count": null,
   "metadata": {},
   "outputs": [],
   "source": [
    "# Zeros\n",
    "zeros = np.zeros((2, 3))  # 2x3 array of zeros\n",
    "print(zeros)\n",
    "\n",
    "# Ones\n",
    "ones = np.ones((3, 2))  # 3x2 array of ones\n",
    "print(ones)\n",
    "\n",
    "# Full\n",
    "full = np.full((2, 2), 5)  # 2x2 array filled with 5\n",
    "print(full)\n",
    "\n",
    "# Arange\n",
    "range_arr = np.arange(0, 10, 2)  # Start=0, stop=10, step=2\n",
    "print(range_arr)\n",
    "\n",
    "# Linspace\n",
    "lin_arr = np.linspace(0, 1, 5)  # 5 values from 0 to 1\n",
    "print(lin_arr)"
   ]
  },
  {
   "cell_type": "markdown",
   "metadata": {},
   "source": [
    "#### Random Arrays"
   ]
  },
  {
   "cell_type": "code",
   "execution_count": null,
   "metadata": {},
   "outputs": [],
   "source": [
    "random_arr = np.random.rand(2, 3)  # 2x3 array with random values between 0 and 1\n",
    "print(random_arr)"
   ]
  },
  {
   "cell_type": "markdown",
   "metadata": {},
   "source": [
    "## 3. Array Attributes\n",
    "NumPy arrays have useful attributes:\n",
    "- `shape`: Tuple of array dimensions.\n",
    "- `ndim`: Number of dimensions.\n",
    "- `size`: Total number of elements.\n",
    "- `dtype`: Data type of elements."
   ]
  },
  {
   "cell_type": "code",
   "execution_count": null,
   "metadata": {},
   "outputs": [],
   "source": [
    "arr = np.array([[1, 2, 3], [4, 5, 6]])\n",
    "print(arr.shape)    # Output: (2, 3)\n",
    "print(arr.ndim)     # Output: 2\n",
    "print(arr.size)     # Output: 6\n",
    "print(arr.dtype)    # Output: int64"
   ]
  },
  {
   "cell_type": "markdown",
   "metadata": {},
   "source": [
    "## 4. Array Operations\n",
    "NumPy supports element-wise operations and broadcasting for efficient computations."
   ]
  },
  {
   "cell_type": "code",
   "execution_count": null,
   "metadata": {},
   "outputs": [],
   "source": [
    "# Element-wise operations\n",
    "arr = np.array([1, 2, 3])\n",
    "print(arr + 2)  # Output: [3 4 5]\n",
    "print(arr * 2)  # Output: [2 4 6]\n",
    "print(arr ** 2) # Output: [1 4 9]\n",
    "\n",
    "# Operations between arrays\n",
    "arr1 = np.array([1, 2, 3])\n",
    "arr2 = np.array([4, 5, 6])\n",
    "print(arr1 + arr2)  # Output: [5 7 9]\n",
    "print(arr1 * arr2)  # Output: [4 10 18]\n",
    "\n",
    "# Broadcasting\n",
    "arr = np.array([[1, 2, 3], [4, 5, 6]])\n",
    "scalar = 10\n",
    "print(arr + scalar)\n",
    "\n",
    "# Mathematical functions\n",
    "arr = np.array([0, np.pi/2, np.pi])\n",
    "print(np.sin(arr))  # Output: [0. 1. 0.]\n",
    "print(np.sqrt(arr))"
   ]
  },
  {
   "cell_type": "markdown",
   "metadata": {},
   "source": [
    "## 5. Indexing and Slicing"
   ]
  },
  {
   "cell_type": "code",
   "execution_count": null,
   "metadata": {},
   "outputs": [],
   "source": [
    "# Basic indexing/slicing\n",
    "arr = np.array([[1, 2, 3], [4, 5, 6], [7, 8, 9]])\n",
    "print(arr[0, 1])    # Output: 2\n",
    "print(arr[1, :])    # Output: [4 5 6]\n",
    "print(arr[:, 1])    # Output: [2 5 8]\n",
    "print(arr[0:2, 1:3])\n",
    "\n",
    "# Boolean indexing\n",
    "arr = np.array([1, 2, 3, 4, 5])\n",
    "print(arr[arr > 3])  # Output: [4 5]\n",
    "\n",
    "# Fancy indexing\n",
    "arr = np.array([10, 20, 30, 40, 50])\n",
    "indices = [0, 2, 4]\n",
    "print(arr[indices])  # Output: [10 30 50]"
   ]
  },
  {
   "cell_type": "markdown",
   "metadata": {},
   "source": [
    "## 6. Array Manipulation"
   ]
  },
  {
   "cell_type": "code",
   "execution_count": null,
   "metadata": {},
   "outputs": [],
   "source": [
    "# Reshaping\n",
    "arr = np.array([1, 2, 3, 4, 5, 6])\n",
    "reshaped = arr.reshape(2, 3)\n",
    "print(reshaped)\n",
    "\n",
    "# Flattening\n",
    "flat = reshaped.flatten()\n",
    "print(flat)\n",
    "\n",
    "# Concatenation\n",
    "arr1 = np.array([[1, 2], [3, 4]])\n",
    "arr2 = np.array([[5, 6], [7, 8]])\n",
    "concat = np.concatenate((arr1, arr2), axis=0)\n",
    "print(concat)\n",
    "\n",
    "# Splitting\n",
    "arr = np.array([1, 2, 3, 4, 5, 6])\n",
    "split_arr = np.split(arr, 3)\n",
    "print(split_arr)"
   ]
  },
  {
   "cell_type": "markdown",
   "metadata": {},
   "source": [
    "## 7. Linear Algebra"
   ]
  },
  {
   "cell_type": "code",
   "execution_count": null,
   "metadata": {},
   "outputs": [],
   "source": [
    "# Dot product\n",
    "arr1 = np.array([[1, 2], [3, 4]])\n",
    "arr2 = np.array([[5, 6], [7, 8]])\n",
    "dot_product = np.dot(arr1, arr2)\n",
    "print(dot_product)\n",
    "\n",
    "# Matrix inverse\n",
    "arr = np.array([[1, 2], [3, 4]])\n",
    "inverse = np.linalg.inv(arr)\n",
    "print(inverse)\n",
    "\n",
    "# Eigenvalues and eigenvectors\n",
    "eigvals, eigvecs = np.linalg.eig(arr)\n",
    "print(eigvals)"
   ]
  },
  {
   "cell_type": "markdown",
   "metadata": {},
   "source": [
    "## 8. Random Number Generation"
   ]
  },
  {
   "cell_type": "code",
   "execution_count": null,
   "metadata": {},
   "outputs": [],
   "source": [
    "# Uniform distribution\n",
    "rand_nums = np.random.rand(3, 2)\n",
    "print(rand_nums)\n",
    "\n",
    "# Normal distribution\n",
    "normal_nums = np.random.randn(3, 2)\n",
    "print(normal_nums)\n",
    "\n",
    "# Random integers\n",
    "rand_ints = np.random.randint(1, 10, size=(2, 3))\n",
    "print(rand_ints)"
   ]
  },
  {
   "cell_type": "markdown",
   "metadata": {},
   "source": [
    "## 9. Practical Example: Plotting with NumPy and Matplotlib"
   ]
  },
  {
   "cell_type": "code",
   "execution_count": null,
   "metadata": {},
   "outputs": [],
   "source": [
    "import matplotlib.pyplot as plt\n",
    "\n",
    "# Generate x values\n",
    "x = np.linspace(0, 2 * np.pi, 100)  # 100 points from 0 to 2π\n",
    "y = np.sin(x)  # Compute sine of each x\n",
    "\n",
    "plt.plot(x, y, color='blue')\n",
    "plt.title('Sine Wave')\n",
    "plt.xlabel('x')\n",
    "plt.ylabel('sin(x)')\n",
    "plt.grid(True)\n",
    "plt.show()"
   ]
  },
  {
   "cell_type": "markdown",
   "metadata": {},
   "source": [
    "## 10. Exercises\n",
    "Try these exercises to practice NumPy:\n",
    "1. Create a 3x3 array of random integers between 1 and 10, then compute its mean and standard deviation.\n",
    "2. Reshape a 1D array of 12 elements into a 3x4 matrix.\n",
    "3. Multiply two 2x2 matrices and find their dot product.\n",
    "4. Filter an array to include only elements greater than its mean.\n",
    "\n",
    "### Example Solution for Exercise 1"
   ]
  },
  {
   "cell_type": "code",
   "execution_count": null,
   "metadata": {},
   "outputs": [],
   "source": [
    "arr = np.random.randint(1, 11, size=(3, 3))\n",
    "print(arr)\n",
    "print(\"Mean:\", np.mean(arr))\n",
    "print(\"Std Dev:\", np.std(arr))"
   ]
  },
  {
   "cell_type": "markdown",
   "metadata": {},
   "source": [
    "## 11. Tips for Learning NumPy\n",
    "- **Practice**: Experiment with arrays, indexing, and operations.\n",
    "- **Documentation**: Check NumPy’s official documentation (numpy.org).\n",
    "- **Use Cases**: Apply NumPy in data analysis (e.g., with pandas) or machine learning (e.g., with scikit-learn).\n",
    "- **Performance**: Use vectorized operations instead of loops for efficiency."
   ]
  }
 ],
 "metadata": {
  "kernelspec": {
   "display_name": "Python 3",
   "language": "python",
   "name": "python3"
  },
  "language_info": {
   "codemirror_mode": {
    "name": "ipython",
    "version": 3
   },
   "file_extension": ".py",
   "mimetype": "text/x-python",
   "name": "python",
   "nbconvert_exporter": "python",
   "pygments_lexer": "ipython3",
   "version": "3.8.10"
  }
 },
 "nbformat": 4,
 "nbformat_minor": 4
}