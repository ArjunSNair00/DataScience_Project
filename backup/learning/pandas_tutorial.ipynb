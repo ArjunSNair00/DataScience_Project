{
 "cells": [
  {
   "cell_type": "markdown",
   "metadata": {},
   "source": [
    "# Introduction to Pandas\n",
    "\n",
    "Pandas is a powerful Python library for data manipulation and analysis, built on top of NumPy. It provides data structures like Series and DataFrame, ideal for handling structured data such as spreadsheets or databases.\n",
    "\n",
    "## What is Pandas?\n",
    "- **Purpose**: Simplifies data manipulation, cleaning, and analysis with intuitive data structures.\n",
    "- **Key Features**:\n",
    "  - **Series**: 1D labeled arrays.\n",
    "  - **DataFrame**: 2D labeled data structures (like tables).\n",
    "  - Data cleaning, grouping, merging, and time-series functionality.\n",
    "  - Integration with NumPy and Matplotlib.\n",
    "- **Installation**: If not installed, use: `pip install pandas`."
   ]
  },
  {
   "cell_type": "markdown",
   "metadata": {},
   "source": [
    "## 1. Getting Started with Pandas\n",
    "Import Pandas with the standard alias `pd`."
   ]
  },
  {
   "cell_type": "code",
   "execution_count": null,
   "metadata": {},
   "outputs": [],
   "source": [
    "import pandas as pd\n",
    "import numpy as np  # Often used with Pandas"
   ]
  },
  {
   "cell_type": "markdown",
   "metadata": {},
   "source": [
    "## 2. Core Data Structures\n",
    "### Series\n",
    "A Series is a 1D array-like object with an index."
   ]
  },
  {
   "cell_type": "code",
   "execution_count": null,
   "metadata": {},
   "outputs": [],
   "source": [
    "# Create a Series\n",
    "s = pd.Series([1, 3, 5, np.nan, 6, 8], index=['a', 'b', 'c', 'd', 'e', 'f'])\n",
    "print(s)\n",
    "print(s['c'])  # Access by index"
   ]
  },
  {
   "cell_type": "markdown",
   "metadata": {},
   "source": [
    "### DataFrame\n",
    "A DataFrame is a 2D table with rows and columns, like a spreadsheet."
   ]
  },
  {
   "cell_type": "code",
   "execution_count": null,
   "metadata": {},
   "outputs": [],
   "source": [
    "# Create a DataFrame from a dictionary\n",
    "data = {'Name': ['Alice', 'Bob', 'Cathy'], 'Age': [25, 30, 22], 'City': ['New York', 'London', 'Paris']}\n",
    "df = pd.DataFrame(data)\n",
    "print(df)\n",
    "\n",
    "# Create from NumPy array\n",
    "df_array = pd.DataFrame(np.random.rand(3, 2), columns=['A', 'B'])\n",
    "print(df_array)"
   ]
  },
  {
   "cell_type": "markdown",
   "metadata": {},
   "source": [
    "## 3. DataFrame Operations\n",
    "### Viewing Data"
   ]
  },
  {
   "cell_type": "code",
   "execution_count": null,
   "metadata": {},
   "outputs": [],
   "source": [
    "print(df.head(2))  # First 2 rows\n",
    "print(df.columns)  # Column names\n",
    "print(df.info())   # DataFrame info\n",
    "print(df.describe())  # Summary statistics"
   ]
  },
  {
   "cell_type": "markdown",
   "metadata": {},
   "source": [
    "### Indexing and Selection\n",
    "- `loc`: Label-based indexing.\n",
    "- `iloc`: Integer-based indexing."
   ]
  },
  {
   "cell_type": "code",
   "execution_count": null,
   "metadata": {},
   "outputs": [],
   "source": [
    "print(df['Name'])  # Select column\n",
    "print(df.loc[0])   # Select row by index\n",
    "print(df.iloc[0, 1])  # Select specific element\n",
    "print(df[df['Age'] > 25])  # Filter rows"
   ]
  },
  {
   "cell_type": "markdown",
   "metadata": {},
   "source": [
    "## 4. Data Manipulation\n",
    "### Adding/Modifying Columns"
   ]
  },
  {
   "cell_type": "code",
   "execution_count": null,
   "metadata": {},
   "outputs": [],
   "source": [
    "df['Salary'] = [50000, 60000, 45000]\n",
    "print(df)\n",
    "\n",
    "# Apply function to a column\n",
    "df['Age'] = df['Age'].apply(lambda x: x + 1)\n",
    "print(df)"
   ]
  },
  {
   "cell_type": "markdown",
   "metadata": {},
   "source": [
    "### Handling Missing Data"
   ]
  },
  {
   "cell_type": "code",
   "execution_count": null,
   "metadata": {},
   "outputs": [],
   "source": [
    "df_with_nan = pd.DataFrame({'A': [1, np.nan, 3], 'B': [4, 5, np.nan]})\n",
    "print(df_with_nan)\n",
    "print(df_with_nan.fillna(0))  # Fill NaN with 0\n",
    "print(df_with_nan.dropna())   # Drop rows with NaN"
   ]
  },
  {
   "cell_type": "markdown",
   "metadata": {},
   "source": [
    "## 5. Grouping and Merging\n",
    "### Grouping"
   ]
  },
  {
   "cell_type": "code",
   "execution_count": null,
   "metadata": {},
   "outputs": [],
   "source": [
    "df['Department'] = ['HR', 'IT', 'HR']\n",
    "grouped = df.groupby('Department').mean(numeric_only=True)\n",
    "print(grouped)"
   ]
  },
  {
   "cell_type": "markdown",
   "metadata": {},
   "source": [
    "### Merging"
   ]
  },
  {
   "cell_type": "code",
   "execution_count": null,
   "metadata": {},
   "outputs": [],
   "source": [
    "df2 = pd.DataFrame({'Name': ['Alice', 'Bob'], 'Bonus': [1000, 2000]})\n",
    "merged = pd.merge(df, df2, on='Name', how='left')\n",
    "print(merged)"
   ]
  },
  {
   "cell_type": "markdown",
   "metadata": {},
   "source": [
    "## 6. Reading/Writing Data\n",
    "Pandas supports reading from and writing to various formats like CSV, Excel, and JSON."
   ]
  },
  {
   "cell_type": "code",
   "execution_count": null,
   "metadata": {},
   "outputs": [],
   "source": [
    "# Example: Write to CSV (commented out to avoid file I/O in this notebook)\n",
    "# df.to_csv('data.csv', index=False)\n",
    "# df_from_csv = pd.read_csv('data.csv')\n",
    "# print(df_from_csv)"
   ]
  },
  {
   "cell_type": "markdown",
   "metadata": {},
   "source": [
    "## 7. Practical Example: Data Analysis\n",
    "Analyze a small dataset using Pandas."
   ]
  },
  {
   "cell_type": "code",
   "execution_count": null,
   "metadata": {},
   "outputs": [],
   "source": [
    "data = {'Continent': ['Africa', 'Asia', 'Europe'], 'Area': [11.74, 10.44, 1.94]}\n",
    "df_area = pd.DataFrame(data)\n",
    "print(df_area)\n",
    "print('Average Area:', df_area['Area'].mean())"
   ]
  },
  {
   "cell_type": "markdown",
   "metadata": {},
   "source": [
    "## 8. Exercises\n",
    "1. Create a DataFrame with 5 rows of student data (Name, Grade, Subject) and filter for grades > 80.\n",
    "2. Group a DataFrame by a column and compute the sum of another column.\n",
    "3. Merge two DataFrames on a common column.\n",
    "4. Handle missing data in a DataFrame by filling NaN with the column mean.\n",
    "\n",
    "### Example Solution for Exercise 1"
   ]
  },
  {
   "cell_type": "code",
   "execution_count": null,
   "metadata": {},
   "outputs": [],
   "source": [
    "students = pd.DataFrame({'Name': ['Alice', 'Bob', 'Cathy', 'David', 'Eve'],\n",
    "                         'Grade': [85, 92, 78, 95, 88],\n",
    "                         'Subject': ['Math', 'Math', 'Science', 'Math', 'Science']})\n",
    "print(students[students['Grade'] > 80])"
   ]
  },
  {
   "cell_type": "markdown",
   "metadata": {},
   "source": [
    "## 9. Tips for Learning Pandas\n",
    "- **Practice**: Work with real datasets (e.g., from Kaggle).\n",
    "- **Documentation**: Refer to pandas.pydata.org for detailed guides.\n",
    "- **Integration**: Combine with NumPy and Matplotlib for full data analysis workflows.\n",
    "- **Efficiency**: Use vectorized operations and avoid loops where possible."
   ]
  }
 ],
 "metadata": {
  "kernelspec": {
   "display_name": "Python 3",
   "language": "python",
   "name": "python3"
  },
  "language_info": {
   "codemirror_mode": {
    "name": "ipython",
    "version": 3
   },
   "file_extension": ".py",
   "mimetype": "text/x-python",
   "name": "python",
   "nbconvert_exporter": "python",
   "pygments_lexer": "ipython3",
   "version": "3.8.10"
  }
 },
 "nbformat": 4,
 "nbformat_minor": 4
}