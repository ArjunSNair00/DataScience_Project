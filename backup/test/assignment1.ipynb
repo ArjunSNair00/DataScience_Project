{
 "cells": [
  {
   "cell_type": "code",
   "execution_count": null,
   "metadata": {},
   "outputs": [],
   "source": [
    "import matplotlib.pyplot as plt\n",
    "\n",
    "# Given data\n",
    "sales_prices = [5, 10, 11, 13, 15, 5, 8, 12, 11, 13, 18, 20, 18, 19, 19]\n",
    "\n",
    "# Define 3 equal-width bins manually\n",
    "bins = [5, 10, 15, 20]  # 3 buckets: [5,10), [10,15), [15,20]\n",
    "\n",
    "# Plot histogram\n",
    "plt.hist(sales_prices, bins=bins, edgecolor='black', rwidth=1.0)  # rwidth=1.0 makes bars touch\n",
    "\n",
    "# Label axes and title\n",
    "plt.xlabel('Sales Price Range')\n",
    "plt.ylabel('Frequency')\n",
    "plt.title('Three-Bucket Equi-Width Histogram')\n",
    "\n",
    "# Show plot\n",
    "plt.show()\n"
   ]
  }
 ],
 "metadata": {
  "kernelspec": {
   "display_name": "AI",
   "language": "python",
   "name": "python3"
  },
  "language_info": {
   "name": "python",
   "version": "3.11.13"
  }
 },
 "nbformat": 4,
 "nbformat_minor": 5
}
