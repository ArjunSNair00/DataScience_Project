{
 "cells": [
  {
   "cell_type": "code",
   "execution_count": 463,
   "id": "ca1b5814",
   "metadata": {},
   "outputs": [
    {
     "data": {
      "text/plain": [
       "0    0\n",
       "1    1\n",
       "2    2\n",
       "3    3\n",
       "4    4\n",
       "dtype: int64"
      ]
     },
     "execution_count": 463,
     "metadata": {},
     "output_type": "execute_result"
    }
   ],
   "source": [
    "import numpy as np\n",
    "import pandas as pd\n",
    "#creating array from list\n",
    "arr=[0,1,2,3,4]\n",
    "s1=pd.Series(arr)\n",
    "s1"
   ]
  },
  {
   "cell_type": "code",
   "execution_count": 464,
   "metadata": {},
   "outputs": [
    {
     "data": {
      "text/plain": [
       "a   -0.260368\n",
       "b    0.733735\n",
       "c   -1.928581\n",
       "d    3.042077\n",
       "e   -2.366661\n",
       "dtype: float64"
      ]
     },
     "execution_count": 464,
     "metadata": {},
     "output_type": "execute_result"
    }
   ],
   "source": [
    "#using randomness for values\n",
    "n=np.random.randn(5) #random Ndarray\n",
    "index=['a','b','c','d','e']\n",
    "s2=pd.Series(n,index=index)\n",
    "s2"
   ]
  },
  {
   "cell_type": "code",
   "execution_count": 465,
   "id": "cda7d508",
   "metadata": {},
   "outputs": [
    {
     "data": {
      "text/plain": [
       "a    1\n",
       "b    2\n",
       "c    3\n",
       "d    4\n",
       "e    5\n",
       "dtype: int64"
      ]
     },
     "execution_count": 465,
     "metadata": {},
     "output_type": "execute_result"
    }
   ],
   "source": [
    "#using dictionary\n",
    "d={'a':1,'b':2,'c':3,'d':4,'e':5}\n",
    "s3=pd.Series(d)\n",
    "s3"
   ]
  },
  {
   "cell_type": "code",
   "execution_count": 466,
   "id": "6472bf4f",
   "metadata": {},
   "outputs": [
    {
     "name": "stdout",
     "output_type": "stream",
     "text": [
      "0    0\n",
      "1    1\n",
      "2    2\n",
      "3    3\n",
      "4    4\n",
      "dtype: int64\n"
     ]
    },
    {
     "data": {
      "text/plain": [
       "A    0\n",
       "B    1\n",
       "C    2\n",
       "D    3\n",
       "E    4\n",
       "dtype: int64"
      ]
     },
     "execution_count": 466,
     "metadata": {},
     "output_type": "execute_result"
    }
   ],
   "source": [
    "#modifying the index of series\n",
    "print(s1)\n",
    "s1.index=['A','B','C','D','E']\n",
    "s1"
   ]
  },
  {
   "cell_type": "code",
   "execution_count": 467,
   "id": "c60d3c79",
   "metadata": {},
   "outputs": [
    {
     "name": "stdout",
     "output_type": "stream",
     "text": [
      "C    2\n",
      "D    3\n",
      "E    4\n",
      "dtype: int64\n"
     ]
    }
   ],
   "source": [
    "#slicing\n",
    "a=s1[2:5]\n",
    "print(a)"
   ]
  },
  {
   "cell_type": "code",
   "execution_count": 468,
   "id": "94b6a720",
   "metadata": {},
   "outputs": [
    {
     "name": "stdout",
     "output_type": "stream",
     "text": [
      "A    0\n",
      "B    1\n",
      "C    2\n",
      "D    3\n",
      "E    4\n",
      "dtype: int64\n",
      "a    1\n",
      "b    2\n",
      "c    3\n",
      "d    4\n",
      "e    5\n",
      "dtype: int64\n",
      "\n",
      "Concatenated: \n"
     ]
    },
    {
     "data": {
      "text/plain": [
       "A    0\n",
       "B    1\n",
       "C    2\n",
       "D    3\n",
       "E    4\n",
       "a    1\n",
       "b    2\n",
       "c    3\n",
       "d    4\n",
       "e    5\n",
       "dtype: int64"
      ]
     },
     "execution_count": 468,
     "metadata": {},
     "output_type": "execute_result"
    }
   ],
   "source": [
    "#appending\n",
    "print(s1)\n",
    "print(s3)\n",
    "combined=pd.concat([s1,s3])\n",
    "print(\"\\nConcatenated: \")\n",
    "combined"
   ]
  },
  {
   "cell_type": "code",
   "execution_count": 469,
   "id": "2c935f8b",
   "metadata": {},
   "outputs": [
    {
     "data": {
      "text/plain": [
       "B    1\n",
       "C    2\n",
       "D    3\n",
       "E    4\n",
       "a    1\n",
       "b    2\n",
       "c    3\n",
       "d    4\n",
       "e    5\n",
       "dtype: int64"
      ]
     },
     "execution_count": 469,
     "metadata": {},
     "output_type": "execute_result"
    }
   ],
   "source": [
    "#removing \n",
    "combined.drop('A')"
   ]
  },
  {
   "cell_type": "markdown",
   "id": "52189a9a",
   "metadata": {},
   "source": [
    "<!DOCTYPE html>\n",
    "<html>\n",
    "<head>\n",
    "  <style>\n",
    "    body {\n",
    "      font-family: sans-serif;\n",
    "    }\n",
    "    h1 {\n",
    "      color: pink;\n",
    "      text-align: center;\n",
    "    }\n",
    "    li,p{\n",
    "      color: pink;\n",
    "    }\n",
    "  </style>\n",
    "  <title>SERIES OPERATIONS</title>\n",
    "</head>\n",
    "<body>\n",
    "  <h1>SERIES OPERATIONS</h1>\n",
    "  <p>Basic operations on series:<p>\n",
    "  <ol>\n",
    "  <li>List to series\n",
    "  <p>A list s5"
   ]
  },
  {
   "cell_type": "code",
   "execution_count": 470,
   "id": "ea5efc39",
   "metadata": {},
   "outputs": [
    {
     "data": {
      "text/plain": [
       "0    6\n",
       "1    7\n",
       "2    2\n",
       "3    5\n",
       "4    7\n",
       "dtype: int64"
      ]
     },
     "execution_count": 470,
     "metadata": {},
     "output_type": "execute_result"
    }
   ],
   "source": [
    "arr1=[0,1,2,3,4,5,7]\n",
    "arr2=[6,7,2,5,7]\n",
    "s5=pd.Series(arr2)\n",
    "s5"
   ]
  },
  {
   "cell_type": "markdown",
   "id": "d2921d7c",
   "metadata": {},
   "source": [
    "<font color=pink>Another list s6</font>"
   ]
  },
  {
   "cell_type": "code",
   "execution_count": 471,
   "id": "097f1d14",
   "metadata": {},
   "outputs": [
    {
     "data": {
      "text/plain": [
       "0    0\n",
       "1    1\n",
       "2    2\n",
       "3    3\n",
       "4    4\n",
       "5    5\n",
       "6    7\n",
       "dtype: int64"
      ]
     },
     "execution_count": 471,
     "metadata": {},
     "output_type": "execute_result"
    }
   ],
   "source": [
    "s6=pd.Series(arr1)\n",
    "s6"
   ]
  },
  {
   "cell_type": "markdown",
   "id": "e56482c3",
   "metadata": {},
   "source": [
    "<font color=pink>You can add series even if they have different dimensions</font>"
   ]
  },
  {
   "cell_type": "code",
   "execution_count": 472,
   "id": "1c05c018",
   "metadata": {},
   "outputs": [
    {
     "data": {
      "text/plain": [
       "0     6.0\n",
       "1     8.0\n",
       "2     4.0\n",
       "3     8.0\n",
       "4    11.0\n",
       "5     NaN\n",
       "6     NaN\n",
       "dtype: float64"
      ]
     },
     "execution_count": 472,
     "metadata": {},
     "output_type": "execute_result"
    }
   ],
   "source": [
    "s5.add(s6)"
   ]
  },
  {
   "cell_type": "code",
   "execution_count": 473,
   "id": "9e0efcb1",
   "metadata": {},
   "outputs": [
    {
     "data": {
      "text/plain": [
       "0     0.0\n",
       "1     7.0\n",
       "2     4.0\n",
       "3    15.0\n",
       "4    28.0\n",
       "5     NaN\n",
       "6     NaN\n",
       "dtype: float64"
      ]
     },
     "execution_count": 473,
     "metadata": {},
     "output_type": "execute_result"
    }
   ],
   "source": [
    "s5.mul(s6)"
   ]
  },
  {
   "cell_type": "code",
   "execution_count": 474,
   "id": "9a2f7ab9",
   "metadata": {},
   "outputs": [
    {
     "data": {
      "text/plain": [
       "0         inf\n",
       "1    7.000000\n",
       "2    1.000000\n",
       "3    1.666667\n",
       "4    1.750000\n",
       "5         NaN\n",
       "6         NaN\n",
       "dtype: float64"
      ]
     },
     "execution_count": 474,
     "metadata": {},
     "output_type": "execute_result"
    }
   ],
   "source": [
    "s5.div(s6)"
   ]
  },
  {
   "cell_type": "code",
   "execution_count": 475,
   "id": "fe4b6af0",
   "metadata": {},
   "outputs": [
    {
     "name": "stdout",
     "output_type": "stream",
     "text": [
      "0    0\n",
      "1    1\n",
      "2    2\n",
      "3    3\n",
      "4    4\n",
      "5    5\n",
      "6    7\n",
      "dtype: int64\n",
      "median: 3.0\n",
      "mean: 3.142857142857143\n",
      "Max: 0\n",
      "Min: 7\n"
     ]
    }
   ],
   "source": [
    "print(s6)\n",
    "print('median:',s6.median())\n",
    "print('mean:',s6.mean())\n",
    "print('Max:',s6.min())\n",
    "print('Min:',s6.max())"
   ]
  },
  {
   "cell_type": "markdown",
   "id": "ca843f78",
   "metadata": {},
   "source": [
    "<font color=pink>Remember: min() automatically takes NaN values as minimum?</font>"
   ]
  },
  {
   "cell_type": "code",
   "execution_count": 476,
   "id": "b2351a70",
   "metadata": {},
   "outputs": [
    {
     "name": "stdout",
     "output_type": "stream",
     "text": [
      "0     6.0\n",
      "1     8.0\n",
      "2     4.0\n",
      "3     8.0\n",
      "4    11.0\n",
      "5     NaN\n",
      "6     NaN\n",
      "dtype: float64\n",
      "median: 8.0\n",
      "mean: 7.4\n",
      "Max: 4.0\n",
      "Min: 11.0\n"
     ]
    }
   ],
   "source": [
    "s7=s5.add(s6)\n",
    "print(s7)\n",
    "print('median:',s7.median())\n",
    "print('mean:',s7.mean())\n",
    "print('Max:',s7.min())\n",
    "print('Min:',s7.max())"
   ]
  },
  {
   "cell_type": "markdown",
   "id": "cc1ca0b3",
   "metadata": {},
   "source": [
    "# Create Dataframe"
   ]
  },
  {
   "cell_type": "code",
   "execution_count": 581,
   "id": "d08800c0",
   "metadata": {},
   "outputs": [
    {
     "data": {
      "text/html": [
       "<div>\n",
       "<style scoped>\n",
       "    .dataframe tbody tr th:only-of-type {\n",
       "        vertical-align: middle;\n",
       "    }\n",
       "\n",
       "    .dataframe tbody tr th {\n",
       "        vertical-align: top;\n",
       "    }\n",
       "\n",
       "    .dataframe thead th {\n",
       "        text-align: right;\n",
       "    }\n",
       "</style>\n",
       "<table border=\"1\" class=\"dataframe\">\n",
       "  <thead>\n",
       "    <tr style=\"text-align: right;\">\n",
       "      <th></th>\n",
       "      <th>A</th>\n",
       "      <th>B</th>\n",
       "      <th>C</th>\n",
       "      <th>D</th>\n",
       "    </tr>\n",
       "  </thead>\n",
       "  <tbody>\n",
       "    <tr>\n",
       "      <th>2025-07-25 02:06:50.978575</th>\n",
       "      <td>1</td>\n",
       "      <td>2</td>\n",
       "      <td>3</td>\n",
       "      <td>4</td>\n",
       "    </tr>\n",
       "    <tr>\n",
       "      <th>2025-07-26 02:06:50.978575</th>\n",
       "      <td>2</td>\n",
       "      <td>5</td>\n",
       "      <td>3</td>\n",
       "      <td>1</td>\n",
       "    </tr>\n",
       "  </tbody>\n",
       "</table>\n",
       "</div>"
      ],
      "text/plain": [
       "                            A  B  C  D\n",
       "2025-07-25 02:06:50.978575  1  2  3  4\n",
       "2025-07-26 02:06:50.978575  2  5  3  1"
      ]
     },
     "execution_count": 581,
     "metadata": {},
     "output_type": "execute_result"
    }
   ],
   "source": [
    "dates=pd.date_range('today',periods=2) #define time sequencence as index\n",
    "num_arr=np.array([[1, 2, 3, 4],[2, 5, 3, 1]])\n",
    "columns=['A','B','C','D'] #use the table as column name\n",
    "\n",
    "df1=pd.DataFrame(num_arr,index=dates,columns=columns)\n",
    "df1"
   ]
  },
  {
   "cell_type": "code",
   "execution_count": 583,
   "id": "bee4f61d",
   "metadata": {},
   "outputs": [
    {
     "data": {
      "text/html": [
       "<div>\n",
       "<style scoped>\n",
       "    .dataframe tbody tr th:only-of-type {\n",
       "        vertical-align: middle;\n",
       "    }\n",
       "\n",
       "    .dataframe tbody tr th {\n",
       "        vertical-align: top;\n",
       "    }\n",
       "\n",
       "    .dataframe thead th {\n",
       "        text-align: right;\n",
       "    }\n",
       "</style>\n",
       "<table border=\"1\" class=\"dataframe\">\n",
       "  <thead>\n",
       "    <tr style=\"text-align: right;\">\n",
       "      <th></th>\n",
       "      <th>A</th>\n",
       "      <th>B</th>\n",
       "      <th>C</th>\n",
       "      <th>D</th>\n",
       "    </tr>\n",
       "  </thead>\n",
       "  <tbody>\n",
       "    <tr>\n",
       "      <th>2025-07-25 02:06:53.522633</th>\n",
       "      <td>-0.394695</td>\n",
       "      <td>0.429703</td>\n",
       "      <td>-0.122463</td>\n",
       "      <td>-0.507876</td>\n",
       "    </tr>\n",
       "    <tr>\n",
       "      <th>2025-07-26 02:06:53.522633</th>\n",
       "      <td>-0.354846</td>\n",
       "      <td>-1.022365</td>\n",
       "      <td>0.864692</td>\n",
       "      <td>-0.737722</td>\n",
       "    </tr>\n",
       "    <tr>\n",
       "      <th>2025-07-27 02:06:53.522633</th>\n",
       "      <td>-0.805859</td>\n",
       "      <td>1.124714</td>\n",
       "      <td>-1.034467</td>\n",
       "      <td>1.029433</td>\n",
       "    </tr>\n",
       "    <tr>\n",
       "      <th>2025-07-28 02:06:53.522633</th>\n",
       "      <td>0.364369</td>\n",
       "      <td>0.408577</td>\n",
       "      <td>-0.719787</td>\n",
       "      <td>1.704958</td>\n",
       "    </tr>\n",
       "    <tr>\n",
       "      <th>2025-07-29 02:06:53.522633</th>\n",
       "      <td>-0.576710</td>\n",
       "      <td>1.988080</td>\n",
       "      <td>1.498259</td>\n",
       "      <td>-1.399402</td>\n",
       "    </tr>\n",
       "    <tr>\n",
       "      <th>2025-07-30 02:06:53.522633</th>\n",
       "      <td>-0.416107</td>\n",
       "      <td>-0.783348</td>\n",
       "      <td>-0.175306</td>\n",
       "      <td>-0.361192</td>\n",
       "    </tr>\n",
       "  </tbody>\n",
       "</table>\n",
       "</div>"
      ],
      "text/plain": [
       "                                   A         B         C         D\n",
       "2025-07-25 02:06:53.522633 -0.394695  0.429703 -0.122463 -0.507876\n",
       "2025-07-26 02:06:53.522633 -0.354846 -1.022365  0.864692 -0.737722\n",
       "2025-07-27 02:06:53.522633 -0.805859  1.124714 -1.034467  1.029433\n",
       "2025-07-28 02:06:53.522633  0.364369  0.408577 -0.719787  1.704958\n",
       "2025-07-29 02:06:53.522633 -0.576710  1.988080  1.498259 -1.399402\n",
       "2025-07-30 02:06:53.522633 -0.416107 -0.783348 -0.175306 -0.361192"
      ]
     },
     "execution_count": 583,
     "metadata": {},
     "output_type": "execute_result"
    }
   ],
   "source": [
    "dates=pd.date_range('today',periods=6) #define time sequencence as index\n",
    "num_arr=np.random.randn(6,4)\n",
    "columns=['A','B','C','D'] #use the table as column name\n",
    "\n",
    "df1=pd.DataFrame(num_arr,index=dates,columns=columns)\n",
    "df1"
   ]
  },
  {
   "cell_type": "code",
   "execution_count": 586,
   "id": "2046a985",
   "metadata": {},
   "outputs": [
    {
     "data": {
      "text/html": [
       "<div>\n",
       "<style scoped>\n",
       "    .dataframe tbody tr th:only-of-type {\n",
       "        vertical-align: middle;\n",
       "    }\n",
       "\n",
       "    .dataframe tbody tr th {\n",
       "        vertical-align: top;\n",
       "    }\n",
       "\n",
       "    .dataframe thead th {\n",
       "        text-align: right;\n",
       "    }\n",
       "</style>\n",
       "<table border=\"1\" class=\"dataframe\">\n",
       "  <thead>\n",
       "    <tr style=\"text-align: right;\">\n",
       "      <th></th>\n",
       "      <th>animal</th>\n",
       "      <th>age</th>\n",
       "      <th>visits</th>\n",
       "      <th>priority</th>\n",
       "    </tr>\n",
       "  </thead>\n",
       "  <tbody>\n",
       "    <tr>\n",
       "      <th>a</th>\n",
       "      <td>cat</td>\n",
       "      <td>2.5</td>\n",
       "      <td>1</td>\n",
       "      <td>yes</td>\n",
       "    </tr>\n",
       "    <tr>\n",
       "      <th>b</th>\n",
       "      <td>dog</td>\n",
       "      <td>3.0</td>\n",
       "      <td>3</td>\n",
       "      <td>yes</td>\n",
       "    </tr>\n",
       "    <tr>\n",
       "      <th>c</th>\n",
       "      <td>snake</td>\n",
       "      <td>0.5</td>\n",
       "      <td>2</td>\n",
       "      <td>no</td>\n",
       "    </tr>\n",
       "    <tr>\n",
       "      <th>d</th>\n",
       "      <td>dog</td>\n",
       "      <td>NaN</td>\n",
       "      <td>3</td>\n",
       "      <td>yes</td>\n",
       "    </tr>\n",
       "    <tr>\n",
       "      <th>e</th>\n",
       "      <td>dog</td>\n",
       "      <td>5.0</td>\n",
       "      <td>2</td>\n",
       "      <td>yes</td>\n",
       "    </tr>\n",
       "    <tr>\n",
       "      <th>f</th>\n",
       "      <td>snake</td>\n",
       "      <td>2.0</td>\n",
       "      <td>3</td>\n",
       "      <td>no</td>\n",
       "    </tr>\n",
       "  </tbody>\n",
       "</table>\n",
       "</div>"
      ],
      "text/plain": [
       "  animal  age  visits priority\n",
       "a    cat  2.5       1      yes\n",
       "b    dog  3.0       3      yes\n",
       "c  snake  0.5       2       no\n",
       "d    dog  NaN       3      yes\n",
       "e    dog  5.0       2      yes\n",
       "f  snake  2.0       3       no"
      ]
     },
     "execution_count": 586,
     "metadata": {},
     "output_type": "execute_result"
    }
   ],
   "source": [
    "#create dataframe with dictionary array\n",
    "\n",
    "data={'animal':['cat','dog','snake','dog','dog','snake'],\n",
    "      'age':[2.5,3,0.5,np.nan,5,2],\n",
    "      'visits':[1,3,2,3,2,3],\n",
    "      'priority':['yes','yes','no','yes','yes','no']}\n",
    "labels = ['a','b','c','d','e','f']\n",
    "df2=pd.DataFrame(data,index=labels)\n",
    "df2"
   ]
  },
  {
   "cell_type": "code",
   "execution_count": 587,
   "id": "b15c4532",
   "metadata": {},
   "outputs": [
    {
     "data": {
      "text/plain": [
       "animal       object\n",
       "age         float64\n",
       "visits        int64\n",
       "priority     object\n",
       "dtype: object"
      ]
     },
     "execution_count": 587,
     "metadata": {},
     "output_type": "execute_result"
    }
   ],
   "source": [
    "#see datatype of array\n",
    "df2.dtypes"
   ]
  },
  {
   "cell_type": "code",
   "execution_count": null,
   "id": "0f1e44c8",
   "metadata": {},
   "outputs": [
    {
     "name": "stdout",
     "output_type": "stream",
     "text": [
      "  animal  age  visits priority\n",
      "a    cat  2.5       1      yes\n",
      "b    dog  3.0       3      yes\n",
      "c  snake  0.5       2       no\n"
     ]
    }
   ],
   "source": [
    "#display only first 3 records of dataframe \n",
    "df3=df2.head(3)\n",
    "print(df3)"
   ]
  },
  {
   "cell_type": "code",
   "execution_count": 595,
   "id": "0e1847ab",
   "metadata": {},
   "outputs": [
    {
     "name": "stdout",
     "output_type": "stream",
     "text": [
      "  animal  age  visits priority\n",
      "d    dog  NaN       3      yes\n",
      "e    dog  5.0       2      yes\n",
      "f  snake  2.0       3       no\n"
     ]
    }
   ],
   "source": [
    "#display only last 3 records of dataframe \n",
    "df3=df2.tail(3)\n",
    "print(df3)"
   ]
  },
  {
   "cell_type": "code",
   "execution_count": null,
   "id": "8f053b9c",
   "metadata": {},
   "outputs": [
    {
     "name": "stdout",
     "output_type": "stream",
     "text": [
      "Index(['a', 'b', 'c', 'd', 'e', 'f'], dtype='object')\n"
     ]
    },
    {
     "data": {
      "text/plain": [
       "Index(['animal', 'age', 'visits', 'priority'], dtype='object')"
      ]
     },
     "execution_count": 611,
     "metadata": {},
     "output_type": "execute_result"
    }
   ],
   "source": [
    "#this is not a call function, index() gives error\n",
    "print(df2.index)\n",
    "df2.columns "
   ]
  },
  {
   "cell_type": "code",
   "execution_count": 615,
   "id": "5bc71c42",
   "metadata": {},
   "outputs": [
    {
     "name": "stdout",
     "output_type": "stream",
     "text": [
      "  animal  age  visits priority\n",
      "a    cat  2.5       1      yes\n",
      "b    dog  3.0       3      yes\n",
      "c  snake  0.5       2       no\n",
      "d    dog  NaN       3      yes\n",
      "e    dog  5.0       2      yes\n",
      "f  snake  2.0       3       no\n"
     ]
    },
    {
     "data": {
      "text/plain": [
       "array([['cat', 2.5, 1, 'yes'],\n",
       "       ['dog', 3.0, 3, 'yes'],\n",
       "       ['snake', 0.5, 2, 'no'],\n",
       "       ['dog', nan, 3, 'yes'],\n",
       "       ['dog', 5.0, 2, 'yes'],\n",
       "       ['snake', 2.0, 3, 'no']], dtype=object)"
      ]
     },
     "execution_count": 615,
     "metadata": {},
     "output_type": "execute_result"
    }
   ],
   "source": [
    "#convert DataFrame to Numpy array\n",
    "print(df2)\n",
    "df2.values "
   ]
  },
  {
   "cell_type": "code",
   "execution_count": 616,
   "id": "a5e61c85",
   "metadata": {},
   "outputs": [
    {
     "data": {
      "text/html": [
       "<div>\n",
       "<style scoped>\n",
       "    .dataframe tbody tr th:only-of-type {\n",
       "        vertical-align: middle;\n",
       "    }\n",
       "\n",
       "    .dataframe tbody tr th {\n",
       "        vertical-align: top;\n",
       "    }\n",
       "\n",
       "    .dataframe thead th {\n",
       "        text-align: right;\n",
       "    }\n",
       "</style>\n",
       "<table border=\"1\" class=\"dataframe\">\n",
       "  <thead>\n",
       "    <tr style=\"text-align: right;\">\n",
       "      <th></th>\n",
       "      <th>age</th>\n",
       "      <th>visits</th>\n",
       "    </tr>\n",
       "  </thead>\n",
       "  <tbody>\n",
       "    <tr>\n",
       "      <th>count</th>\n",
       "      <td>5.000000</td>\n",
       "      <td>6.000000</td>\n",
       "    </tr>\n",
       "    <tr>\n",
       "      <th>mean</th>\n",
       "      <td>2.600000</td>\n",
       "      <td>2.333333</td>\n",
       "    </tr>\n",
       "    <tr>\n",
       "      <th>std</th>\n",
       "      <td>1.635543</td>\n",
       "      <td>0.816497</td>\n",
       "    </tr>\n",
       "    <tr>\n",
       "      <th>min</th>\n",
       "      <td>0.500000</td>\n",
       "      <td>1.000000</td>\n",
       "    </tr>\n",
       "    <tr>\n",
       "      <th>25%</th>\n",
       "      <td>2.000000</td>\n",
       "      <td>2.000000</td>\n",
       "    </tr>\n",
       "    <tr>\n",
       "      <th>50%</th>\n",
       "      <td>2.500000</td>\n",
       "      <td>2.500000</td>\n",
       "    </tr>\n",
       "    <tr>\n",
       "      <th>75%</th>\n",
       "      <td>3.000000</td>\n",
       "      <td>3.000000</td>\n",
       "    </tr>\n",
       "    <tr>\n",
       "      <th>max</th>\n",
       "      <td>5.000000</td>\n",
       "      <td>3.000000</td>\n",
       "    </tr>\n",
       "  </tbody>\n",
       "</table>\n",
       "</div>"
      ],
      "text/plain": [
       "            age    visits\n",
       "count  5.000000  6.000000\n",
       "mean   2.600000  2.333333\n",
       "std    1.635543  0.816497\n",
       "min    0.500000  1.000000\n",
       "25%    2.000000  2.000000\n",
       "50%    2.500000  2.500000\n",
       "75%    3.000000  3.000000\n",
       "max    5.000000  3.000000"
      ]
     },
     "execution_count": 616,
     "metadata": {},
     "output_type": "execute_result"
    }
   ],
   "source": [
    "df2.describe() #see statistical data of dataframe"
   ]
  },
  {
   "cell_type": "code",
   "execution_count": 617,
   "id": "4eb9cc83",
   "metadata": {},
   "outputs": [
    {
     "data": {
      "text/html": [
       "<div>\n",
       "<style scoped>\n",
       "    .dataframe tbody tr th:only-of-type {\n",
       "        vertical-align: middle;\n",
       "    }\n",
       "\n",
       "    .dataframe tbody tr th {\n",
       "        vertical-align: top;\n",
       "    }\n",
       "\n",
       "    .dataframe thead th {\n",
       "        text-align: right;\n",
       "    }\n",
       "</style>\n",
       "<table border=\"1\" class=\"dataframe\">\n",
       "  <thead>\n",
       "    <tr style=\"text-align: right;\">\n",
       "      <th></th>\n",
       "      <th>a</th>\n",
       "      <th>b</th>\n",
       "      <th>c</th>\n",
       "      <th>d</th>\n",
       "      <th>e</th>\n",
       "      <th>f</th>\n",
       "    </tr>\n",
       "  </thead>\n",
       "  <tbody>\n",
       "    <tr>\n",
       "      <th>animal</th>\n",
       "      <td>cat</td>\n",
       "      <td>dog</td>\n",
       "      <td>snake</td>\n",
       "      <td>dog</td>\n",
       "      <td>dog</td>\n",
       "      <td>snake</td>\n",
       "    </tr>\n",
       "    <tr>\n",
       "      <th>age</th>\n",
       "      <td>2.5</td>\n",
       "      <td>3.0</td>\n",
       "      <td>0.5</td>\n",
       "      <td>NaN</td>\n",
       "      <td>5.0</td>\n",
       "      <td>2.0</td>\n",
       "    </tr>\n",
       "    <tr>\n",
       "      <th>visits</th>\n",
       "      <td>1</td>\n",
       "      <td>3</td>\n",
       "      <td>2</td>\n",
       "      <td>3</td>\n",
       "      <td>2</td>\n",
       "      <td>3</td>\n",
       "    </tr>\n",
       "    <tr>\n",
       "      <th>priority</th>\n",
       "      <td>yes</td>\n",
       "      <td>yes</td>\n",
       "      <td>no</td>\n",
       "      <td>yes</td>\n",
       "      <td>yes</td>\n",
       "      <td>no</td>\n",
       "    </tr>\n",
       "  </tbody>\n",
       "</table>\n",
       "</div>"
      ],
      "text/plain": [
       "            a    b      c    d    e      f\n",
       "animal    cat  dog  snake  dog  dog  snake\n",
       "age       2.5  3.0    0.5  NaN  5.0    2.0\n",
       "visits      1    3      2    3    2      3\n",
       "priority  yes  yes     no  yes  yes     no"
      ]
     },
     "execution_count": 617,
     "metadata": {},
     "output_type": "execute_result"
    }
   ],
   "source": [
    "df2.T #Transpose dataframe"
   ]
  }
 ],
 "metadata": {
  "kernelspec": {
   "display_name": "AI",
   "language": "python",
   "name": "python3"
  },
  "language_info": {
   "codemirror_mode": {
    "name": "ipython",
    "version": 3
   },
   "file_extension": ".py",
   "mimetype": "text/x-python",
   "name": "python",
   "nbconvert_exporter": "python",
   "pygments_lexer": "ipython3",
   "version": "3.11.13"
  }
 },
 "nbformat": 4,
 "nbformat_minor": 5
}
