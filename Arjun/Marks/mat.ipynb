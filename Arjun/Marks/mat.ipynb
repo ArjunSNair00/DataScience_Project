{
 "cells": [
  {
   "cell_type": "code",
   "execution_count": null,
   "id": "35fb0e65",
   "metadata": {},
   "outputs": [],
   "source": [
    "import matplotlib.pyplot as plt\n",
    "x=[0,2,3]\n",
    "y=[0,4,2]\n",
    "plt.plot(x,y)\n",
    "plt.xlabel('x-axis')\n",
    "plt.ylabel('y-axis')\n",
    "plt.title(\"X-Y plot\")"
   ]
  },
  {
   "cell_type": "code",
   "execution_count": null,
   "id": "68c4425b",
   "metadata": {},
   "outputs": [],
   "source": [
    "x=[0,0,10,10]\n",
    "y=[0,10,10,0]\n",
    "plt.plot(x,y)\n",
    "plt.xlabel('x-axis')\n",
    "plt.ylabel('y-axis')\n",
    "plt.title(\"X-Y plot\")"
   ]
  }
 ],
 "metadata": {
  "language_info": {
   "name": "python"
  }
 },
 "nbformat": 4,
 "nbformat_minor": 5
}
