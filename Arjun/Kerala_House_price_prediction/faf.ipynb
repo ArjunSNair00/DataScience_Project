{
 "cells": [
  {
   "cell_type": "code",
   "execution_count": null,
   "id": "7eff2079",
   "metadata": {},
   "outputs": [],
   "source": [
    "import pandas as pd\n",
    "import numpy as np\n",
    "import matplotlib.pyplot as plt\n",
    "import seaborn as sns\n",
    "from sklearn.model_selection import train_test_split\n",
    "from sklearn.linear_model import LinearRegression"
   ]
  },
  {
   "cell_type": "code",
   "execution_count": null,
   "id": "cc841f5d",
   "metadata": {},
   "outputs": [],
   "source": [
    "# Load dataset\n",
    "data = pd.read_csv('data.csv')"
   ]
  },
  {
   "cell_type": "code",
   "execution_count": null,
   "id": "c4dee6dd",
   "metadata": {
    "lines_to_next_cell": 1
   },
   "outputs": [],
   "source": [
    "# Split features and target\n",
    "x = data.drop(['price'], axis=1)\n",
    "y = data['price']\n",
    "\n",
    "x_train, x_test, y_train, y_test = train_test_split(x, y, test_size=0.2, random_state=42)\n",
    "\n",
    "# Function to apply log transform and feature engineering\n",
    "def prepare_features(df):\n",
    "    df = df.copy()\n",
    "    # Log transformations (+1 to avoid log(0))\n",
    "    cols_to_log = ['age', 'amneties', 'area', 'atmDistance', 'balconies', 'bathrooms',\n",
    "                   'hospitalDistance', 'restrauntDistance', 'schoolDistance', 'shoppingDistance', 'status']\n",
    "    for col in cols_to_log:\n",
    "        df[col] = np.log(df[col] + 1)\n",
    "    \n",
    "    # Derived features\n",
    "    df['bathrooms_ratio'] = df['bathrooms'] / df['area']\n",
    "    df['total_rooms_est'] = df['bathrooms'] + df['balconies'] + 1  # rough estimate\n",
    "    df['households_est'] = 1\n",
    "    df['household_rooms'] = df['total_rooms_est'] / df['households_est']\n",
    "    \n",
    "    return df"
   ]
  },
  {
   "cell_type": "code",
   "execution_count": null,
   "id": "f61e23c2",
   "metadata": {},
   "outputs": [],
   "source": [
    "# Prepare train and test sets\n",
    "train_data = x_train.join(y_train)\n",
    "train_data = prepare_features(train_data)\n",
    "\n",
    "test_data = x_test.join(y_test)\n",
    "test_data = prepare_features(test_data)\n",
    "\n",
    "# Separate features and target\n",
    "x_train_prepared = train_data.drop(['price'], axis=1)\n",
    "y_train_prepared = train_data['price']\n",
    "\n",
    "x_test_prepared = test_data.drop(['price'], axis=1)\n",
    "y_test_prepared = test_data['price']\n",
    "\n",
    "# Ensure same column order\n",
    "x_test_prepared = x_test_prepared[x_train_prepared.columns]"
   ]
  },
  {
   "cell_type": "code",
   "execution_count": null,
   "id": "ea2a47ab",
   "metadata": {},
   "outputs": [],
   "source": [
    "# Train model\n",
    "reg = LinearRegression()\n",
    "reg.fit(x_train_prepared, y_train_prepared)"
   ]
  },
  {
   "cell_type": "code",
   "execution_count": null,
   "id": "dffe1a63",
   "metadata": {},
   "outputs": [],
   "source": [
    "# Evaluate\n",
    "r2 = reg.score(x_test_prepared, y_test_prepared)\n",
    "print(\"R² on test data:\", r2)"
   ]
  }
 ],
 "metadata": {
  "jupytext": {
   "cell_metadata_filter": "-all",
   "main_language": "python",
   "notebook_metadata_filter": "-all"
  }
 },
 "nbformat": 4,
 "nbformat_minor": 5
}
